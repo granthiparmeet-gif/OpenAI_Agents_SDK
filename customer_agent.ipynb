{
 "cells": [
  {
   "cell_type": "code",
   "execution_count": 11,
   "id": "ad8601d1",
   "metadata": {},
   "outputs": [],
   "source": [
    "import os\n",
    "from dotenv import load_dotenv\n",
    "from agents import Agent, Runner, handoff, function_tool, RunContextWrapper\n",
    "from pydantic import BaseModel"
   ]
  },
  {
   "cell_type": "code",
   "execution_count": 12,
   "id": "ad0207e4",
   "metadata": {},
   "outputs": [],
   "source": [
    "load_dotenv()\n",
    "\n",
    "api_key=os.environ.get(\"OPENAI_API_KEY\")\n",
    "\n",
    "if not api_key:\n",
    "    raise ValueError(\"Problem with API key\")"
   ]
  },
  {
   "cell_type": "code",
   "execution_count": 13,
   "id": "9d088405",
   "metadata": {},
   "outputs": [
    {
     "name": "stdout",
     "output_type": "stream",
     "text": [
      "Escalating to manager : The customer is unable to process a refund due to a blank website page.\n",
      "Reason for escalation : The system issue is beyond basic troubleshooting steps and requires technical support to fix the website functionality.\n",
      "creating ticket for the The customer is unable to process a refund because the website is displaying as a blank page.\n",
      "I've created a support ticket for your issue. Our technical team will look into the website problem as soon as possible. Your ticket ID is **12345**. We'll keep you updated!\n"
     ]
    }
   ],
   "source": [
    "from agents import trace\n",
    "\n",
    "class Issue(BaseModel):\n",
    "    issue:str\n",
    "    why:str # Why can you not handle it\n",
    "\n",
    "@function_tool\n",
    "def create_ticket(issue:str):\n",
    "    print(f\"creating ticket for the {issue}\")\n",
    "    return \"Ticket created with ID. 12345\"\n",
    "\n",
    "def on_manager_handoff(ctx:RunContextWrapper[None], input:Issue):\n",
    "    print(f\"Escalating to manager : {input.issue}\")\n",
    "    print(f\"Reason for escalation : {input.why}\")\n",
    "\n",
    "\n",
    "manager_agent=Agent(\n",
    "    name=\"Manager Agent\",\n",
    "    handoff_description=\"You handle the complex issues that the Customer Service Agent is not able to resolve by itself \",\n",
    "    instructions=\"You handle escalted customer issues that Customer Service Agent is not able to resolve by itself\"\n",
    "                  \"You will receive the issue and the reason for escalation. If the issue cannot be resolved immediately, create a ticket\",\n",
    "    tools=[create_ticket]\n",
    ")\n",
    "\n",
    "customer_service_agent = Agent(\n",
    "    name= \"Customer Service Agent\",\n",
    "    instructions=\"You are a customer support agent which helps customer with basic trouble shooting and general queries\"\n",
    "                  \"If you are unable to answer escalte to the manager, with reason why you cannot fix the issue yourself\",\n",
    "    handoffs=[handoff(agent= manager_agent, input_type=Issue, on_handoff=on_manager_handoff)]\n",
    ")\n",
    "\n",
    "with trace(\"Customer Hotline service\"):\n",
    "    issue = \"I want a refund but your system wont let me process it. You website is just blank\"\n",
    "    result= await Runner.run(customer_service_agent, issue)\n",
    "\n",
    "    print(result.final_output)"
   ]
  }
 ],
 "metadata": {
  "kernelspec": {
   "display_name": "myvenv",
   "language": "python",
   "name": "python3"
  },
  "language_info": {
   "codemirror_mode": {
    "name": "ipython",
    "version": 3
   },
   "file_extension": ".py",
   "mimetype": "text/x-python",
   "name": "python",
   "nbconvert_exporter": "python",
   "pygments_lexer": "ipython3",
   "version": "3.13.3"
  }
 },
 "nbformat": 4,
 "nbformat_minor": 5
}
