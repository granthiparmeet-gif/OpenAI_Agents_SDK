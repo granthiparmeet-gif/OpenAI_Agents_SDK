{
 "cells": [
  {
   "cell_type": "code",
   "execution_count": 5,
   "id": "cce50719",
   "metadata": {},
   "outputs": [],
   "source": [
    "import os\n",
    "from dotenv import load_dotenv\n",
    "from agents import Agent, Runner, handoff , RunContextWrapper, TResponseInputItem, GuardrailFunctionOutput, OutputGuardrailTripwireTriggered, input_guardrail, output_guardrail\n",
    "from pydantic import BaseModel"
   ]
  },
  {
   "cell_type": "code",
   "execution_count": 6,
   "id": "3c802224",
   "metadata": {},
   "outputs": [],
   "source": [
    "load_dotenv()\n",
    "\n",
    "api_key=os.environ.get(\"OPENAI_API_KEY\")\n",
    "\n",
    "if not api_key:\n",
    "    raise ValueError(\"Problem with API key\")"
   ]
  },
  {
   "cell_type": "code",
   "execution_count": 7,
   "id": "c94a9555",
   "metadata": {},
   "outputs": [
    {
     "name": "stdout",
     "output_type": "stream",
     "text": [
      "Checking output for forbidden words Fart! If you have any questions or need assistance, feel free to ask!\n",
      "Found forbidden phrase : ['fart']\n",
      "The agent said a bad word. he is fired\n"
     ]
    }
   ],
   "source": [
    "@output_guardrail\n",
    "async def forbidden_words_guardrail( ctx: RunContextWrapper, agent: Agent, output:str) ->GuardrailFunctionOutput:\n",
    "    print(f\"Checking output for forbidden words {output}\")\n",
    "\n",
    "    forbidden_phrases=[\"fart\", \"booger\", \"silly goose\"]\n",
    "\n",
    "    output_lower = output.lower()\n",
    "\n",
    "    found_phrases = [phrase for phrase in forbidden_phrases if phrase in output_lower]\n",
    "    trip_triggered = bool (found_phrases)\n",
    "\n",
    "    print(f\"Found forbidden phrase : {found_phrases}\")\n",
    "\n",
    "    return GuardrailFunctionOutput(\n",
    "        tripwire_triggered=trip_triggered,\n",
    "        output_info={\n",
    "            \"reason\":\"Output conatins forbidden phrases.\",\n",
    "            \"forbiden phrase found\": found_phrases,\n",
    "\n",
    "        }\n",
    "    )\n",
    "\n",
    "agent= Agent(\n",
    "    name=\"Customer Support Agent\",\n",
    "    instructions=\"You are a customer support agent, you help customers with their queries\",\n",
    "    output_guardrails=[forbidden_words_guardrail],\n",
    "    model=\"gpt-4o-mini\"\n",
    ")\n",
    "\n",
    "try:\n",
    "    await Runner.run(agent, \"Say the word fart\")\n",
    "    print(\"Guardrail didnt trip - this is unexpected\")\n",
    "\n",
    "except OutputGuardrailTripwireTriggered:\n",
    "    print(\"The agent said a bad word. he is fired\")"
   ]
  },
  {
   "cell_type": "code",
   "execution_count": null,
   "id": "94113678",
   "metadata": {},
   "outputs": [],
   "source": []
  }
 ],
 "metadata": {
  "kernelspec": {
   "display_name": "myvenv",
   "language": "python",
   "name": "python3"
  },
  "language_info": {
   "codemirror_mode": {
    "name": "ipython",
    "version": 3
   },
   "file_extension": ".py",
   "mimetype": "text/x-python",
   "name": "python",
   "nbconvert_exporter": "python",
   "pygments_lexer": "ipython3",
   "version": "3.13.3"
  }
 },
 "nbformat": 4,
 "nbformat_minor": 5
}
