{
 "cells": [
  {
   "cell_type": "code",
   "execution_count": 9,
   "id": "5e5c917c",
   "metadata": {},
   "outputs": [],
   "source": [
    "import os\n",
    "from dotenv import load_dotenv\n",
    "from agents import Agent, Runner\n",
    "from pydantic import BaseModel"
   ]
  },
  {
   "cell_type": "code",
   "execution_count": 11,
   "id": "7667ba4f",
   "metadata": {},
   "outputs": [],
   "source": [
    "load_dotenv()\n",
    "\n",
    "api_key=os.environ.get(\"OPENAI_API_KEY\")\n",
    "\n",
    "if not api_key:\n",
    "    raise ValueError(\"Problem with API key\")"
   ]
  },
  {
   "cell_type": "code",
   "execution_count": 17,
   "id": "e5e470ec",
   "metadata": {},
   "outputs": [
    {
     "name": "stdout",
     "output_type": "stream",
     "text": [
      "Here's an outline for a tutorial on \"Loops in Java\":\n",
      "\n",
      "1. **Introduction to Loops**\n",
      "   - Definition and purpose of loops\n",
      "   - Importance of loops in programming\n",
      "\n",
      "2. **Types of Loops in Java**\n",
      "   - Overview of different loop types\n",
      "\n",
      "3. **The `for` Loop**\n",
      "   - Syntax and flowchart\n",
      "   - Examples and use cases\n",
      "   - Nested `for` loops\n",
      "\n",
      "4. **The `while` Loop**\n",
      "   - Syntax and flowchart\n",
      "   - Examples and use cases\n",
      "   - Difference between `for` and `while` loops\n",
      "\n",
      "5. **The `do-while` Loop**\n",
      "   - Syntax and flowchart\n",
      "   - Examples and use cases\n",
      "   - How it differs from `while` loop\n",
      "\n",
      "6. **Enhanced `for` Loop (for-each)**\n",
      "   - Syntax and benefits\n",
      "   - Use cases with arrays and collections\n",
      "\n",
      "7. **Common Pitfalls and Tips**\n",
      "   - Infinite loops\n",
      "   - Off-by-one errors\n",
      "   - Best practices for loop optimization\n",
      "\n",
      "8. **Real-World Applications**\n",
      "   - Use cases in software development\n",
      "   - Practical examples and problem-solving with loops\n",
      "\n",
      "9. **Summary and Conclusion**\n",
      "   - Recap of key points\n",
      "   - Further reading and resources\n",
      "\n",
      "Would you like me to proceed with building the tutorial based on this outline?\n"
     ]
    }
   ],
   "source": [
    "class Tutorial(BaseModel):\n",
    "    ouline:str\n",
    "    tutorial:str\n",
    "\n",
    "tutorial_builder=Agent(\n",
    "    name=\"Tutorial Builder\",\n",
    "    handoff_description=\"used to build a tutorial based on outlines\",\n",
    "    instructions= (\"On receiving the outline from the outline builder, give code snippets of each section of the outline\"\n",
    "                    \"Format the tutorial in markdown using mix of text and explanation and code snippets for example\"\n",
    "                    ),\n",
    "    # output_type=Tutorial\n",
    "\n",
    ")\n",
    "\n",
    "outline_builder=Agent(\n",
    "    name=\"Outline Builder\",\n",
    "    instructions=(\"Given a topic of programming you need to give outlines so that the next agent uses those outline to build a tutorial\"),\n",
    "    handoffs=[tutorial_builder]\n",
    ")\n",
    "\n",
    "result= await Runner.run(outline_builder, \"Loops in Java\")\n",
    "print(result.final_output)\n",
    "\n"
   ]
  },
  {
   "cell_type": "code",
   "execution_count": null,
   "id": "6f368123",
   "metadata": {},
   "outputs": [],
   "source": []
  }
 ],
 "metadata": {
  "kernelspec": {
   "display_name": "myvenv",
   "language": "python",
   "name": "python3"
  },
  "language_info": {
   "codemirror_mode": {
    "name": "ipython",
    "version": 3
   },
   "file_extension": ".py",
   "mimetype": "text/x-python",
   "name": "python",
   "nbconvert_exporter": "python",
   "pygments_lexer": "ipython3",
   "version": "3.13.3"
  }
 },
 "nbformat": 4,
 "nbformat_minor": 5
}
