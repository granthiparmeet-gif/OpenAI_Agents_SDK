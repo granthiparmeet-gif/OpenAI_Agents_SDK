{
 "cells": [
  {
   "cell_type": "code",
   "execution_count": 1,
   "id": "14b872a4",
   "metadata": {},
   "outputs": [],
   "source": [
    "import os\n",
    "from openai import OpenAI\n",
    "from dotenv import load_dotenv\n",
    "from pydantic import BaseModel\n",
    "from typing import List\n",
    "from agents import Agent, Runner\n"
   ]
  },
  {
   "cell_type": "code",
   "execution_count": 2,
   "id": "2871cf8b",
   "metadata": {},
   "outputs": [],
   "source": [
    "load_dotenv()\n",
    "\n",
    "\n",
    "api_key=os.environ.get(\"OPENAI_API_KEY\")\n",
    "\n",
    "if not api_key:\n",
    "    raise ValueError(\"Problem with API key\")"
   ]
  },
  {
   "cell_type": "code",
   "execution_count": 3,
   "id": "7ce2e063",
   "metadata": {},
   "outputs": [
    {
     "name": "stdout",
     "output_type": "stream",
     "text": [
      "THERE ARE EIGHT PLANETS IN THE SOLAR SYSTEM.\n"
     ]
    }
   ],
   "source": [
    "caps_agent= Agent(\n",
    "    name=\"Agent for converting Caps\",\n",
    "    instructions= \"You are caps converter agent, Just answer all in Caps\",\n",
    "    model=\"gpt-4o-mini\"\n",
    ")\n",
    "question = \"How many planets are ther in the solar system\"\n",
    "caps_agent_output = await Runner.run(caps_agent, question)\n",
    "\n",
    "print(caps_agent_output.final_output)"
   ]
  },
  {
   "cell_type": "code",
   "execution_count": 4,
   "id": "38df7853",
   "metadata": {},
   "outputs": [
    {
     "name": "stdout",
     "output_type": "stream",
     "text": [
      "Why did the computer go to therapy?\n",
      "\n",
      "Because it had too many \"bytes\" from its friends that just weren't compatible!\n"
     ]
    }
   ],
   "source": [
    "joke_agent=Agent(\n",
    "    name=\"Joke Agent\",\n",
    "    instructions=\"You are a comedian. Please tell me a joke on the topic I provide\",\n",
    "    model=\"gpt-4o-mini\",\n",
    ")\n",
    "\n",
    "title=\"friends\"\n",
    "\n",
    "joke_agent_output=await Runner.run(joke_agent, title)\n",
    "\n",
    "print(joke_agent_output.final_output)\n"
   ]
  },
  {
   "cell_type": "code",
   "execution_count": 5,
   "id": "87c2be4f",
   "metadata": {},
   "outputs": [
    {
     "name": "stdout",
     "output_type": "stream",
     "text": [
      "The original joke is Why did the computer go to therapy?\n",
      "\n",
      "Because it had too many \"bytes\" from its friends that just weren't compatible!\n",
      "The transalted joke isकंप्यूटर थेरपी में क्यों गया?\n",
      "\n",
      "क्योंकि उसके दोस्तों से उसे बहुत सारे \"बाइट्स\" मिल गए थे, जो बस संगत नहीं थे!\n"
     ]
    }
   ],
   "source": [
    "translation_agent=Agent(\n",
    "    name=\"Transaltion Agent\",\n",
    "    model=\"gpt-4o-mini\",\n",
    "    instructions=\"You are transaltor, translate the given joke in Hindi\"\n",
    ")\n",
    "\n",
    "translation_agent_output = await Runner.run(translation_agent, joke_agent_output.final_output)\n",
    "\n",
    "print(f\"The original joke is {joke_agent_output.final_output}\")\n",
    "print(f\"The transalted joke is{translation_agent_output.final_output}\")"
   ]
  },
  {
   "cell_type": "code",
   "execution_count": 16,
   "id": "36880ea2",
   "metadata": {},
   "outputs": [
    {
     "name": "stdout",
     "output_type": "stream",
     "text": [
      "title='Indian Dosa' ingredients=['1 cup rice (preferably idli rice)', '1/3 cup urad dal (split black gram)', '1/2 teaspoon fenugreek seeds', 'Salt to taste', 'Water for soaking and grinding', 'Oil or ghee for cooking'] time=480 servings=4\n"
     ]
    }
   ],
   "source": [
    "class Recipie(BaseModel):\n",
    "    title: str\n",
    "    ingredients : List[str]\n",
    "    time: int\n",
    "    servings: int\n",
    "\n",
    "recipie_agent=Agent(\n",
    "    name=\"Reciepie Agent\",\n",
    "    instructions=\"You are a chef. When provided a recipie give the titleof the recipie, Ingredients required, time required to make the recipie, and the servings\",\n",
    "    model=\"gpt-4o-mini\",\n",
    "    output_type=Recipie\n",
    ")\n",
    "\n",
    "recipie_agent_output = await Runner.run(recipie_agent, \"Indian Dosa\")\n",
    "\n",
    "print(recipie_agent_output.final_output)\n"
   ]
  },
  {
   "cell_type": "code",
   "execution_count": 22,
   "id": "78d1f758",
   "metadata": {},
   "outputs": [
    {
     "name": "stdout",
     "output_type": "stream",
     "text": [
      "Getting the weather of Sydney\n"
     ]
    },
    {
     "data": {
      "text/plain": [
       "'The weather in Sydney is sunny. If you need specific temperature information, please let me know!'"
      ]
     },
     "execution_count": 22,
     "metadata": {},
     "output_type": "execute_result"
    }
   ],
   "source": [
    "from agents import function_tool\n",
    "\n",
    "@function_tool\n",
    "def get_weather(city:str) -> str:\n",
    "    print(f\"Getting the weather of {city}\")\n",
    "    return \"Sunny\"\n",
    "\n",
    "@function_tool\n",
    "def get_temperature(city:str) ->str:\n",
    "    print(f\"Getting the temperature of {city}\")\n",
    "    return \"48 degree celcius\"\n",
    "\n",
    "\n",
    "\n",
    "\n",
    "weather_agent = Agent(\n",
    "    name=\"Waether agent\",\n",
    "    model=\"gpt-4o-mini\",\n",
    "    instructions= \"You are a weather expert, give the weather and the temperature of city\",\n",
    "    tools=[get_weather]\n",
    ")\n",
    "\n",
    "weather_agent_output= await Runner.run(weather_agent,\"Sydney\")\n",
    "\n",
    "weather_agent_output.final_output"
   ]
  },
  {
   "cell_type": "code",
   "execution_count": null,
   "id": "f08e4d41",
   "metadata": {},
   "outputs": [],
   "source": [
    "from agents import WebSearchTool\n",
    "\n",
    "news_agent= Agent(\n",
    "    name=\" News Agent\",\n",
    "    model=\"gpt-4o-mini\",\n",
    "    instructions= \"You are a news agent, Provide news on the given topic. Compile the information as a single paragraph, no markdown just plain text\",\n",
    "    tools=[WebSearchTool()]\n",
    ")\n",
    "\n",
    "while True:\n",
    "    topic = input(\"Please enter the topic you would like to know information about. or 'quit' to exit\")\n",
    "    if topic.lower()==\"quit\":\n",
    "        break\n",
    "\n",
    "\n",
    "\n",
    "news_agent= await Runner.run(news_agent,input=topic)\n",
    "\n",
    "print(\"\\n Result:\")\n",
    "print(news_agent.final_output)\n",
    "print(\"\\n\"+\"-\"*50 +\"\\n\")\n",
    "\n"
   ]
  },
  {
   "cell_type": "code",
   "execution_count": 9,
   "id": "294e7ce5",
   "metadata": {},
   "outputs": [
    {
     "name": "stdout",
     "output_type": "stream",
     "text": [
      "The translated joke is : पनीर सड़क क्यों पार किया? \n",
      "\n",
      "ताकि दूसरी तरफ जा सके... जहाँ घास गुडा है! 🧀\n"
     ]
    }
   ],
   "source": [
    "from agents import trace, Agent, Runner\n",
    "\n",
    "joke_agent=Agent(\n",
    "    name=\"Joke Agent\",\n",
    "    instructions=\"You are a comedian. Please tell me a joke on the topic I provide\",\n",
    "    model=\"gpt-4o-mini\",\n",
    ")\n",
    "\n",
    "translation_agent=Agent(\n",
    "    name=\"Translation Agent\",\n",
    "    model=\"gpt-4o-mini\",\n",
    "    instructions=\"You are translator, translate the given joke in Hindi\"\n",
    ")\n",
    "\n",
    "with trace(\"Joke Translation Worklflow\"):\n",
    "    joke_result= await Runner.run(joke_agent, \"Cheese\")\n",
    "    translated_result = await Runner.run(translation_agent, f\"Translate this joke to Hindi : {joke_result.final_output}\")\n",
    "    print(f\"The translated joke is : {translated_result.final_output}\")"
   ]
  },
  {
   "cell_type": "code",
   "execution_count": null,
   "id": "3b81f6eb",
   "metadata": {},
   "outputs": [],
   "source": []
  }
 ],
 "metadata": {
  "kernelspec": {
   "display_name": "myvenv",
   "language": "python",
   "name": "python3"
  },
  "language_info": {
   "codemirror_mode": {
    "name": "ipython",
    "version": 3
   },
   "file_extension": ".py",
   "mimetype": "text/x-python",
   "name": "python",
   "nbconvert_exporter": "python",
   "pygments_lexer": "ipython3",
   "version": "3.13.3"
  }
 },
 "nbformat": 4,
 "nbformat_minor": 5
}
