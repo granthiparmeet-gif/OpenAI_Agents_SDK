{
 "cells": [
  {
   "cell_type": "code",
   "execution_count": 10,
   "id": "c7f40cba",
   "metadata": {},
   "outputs": [],
   "source": [
    "import os\n",
    "from dotenv import load_dotenv\n",
    "from agents import Agent, Runner, handoff , RunContextWrapper, TResponseInputItem, GuardrailFunctionOutput, InputGuardrailTripwireTriggered, input_guardrail\n",
    "from pydantic import BaseModel"
   ]
  },
  {
   "cell_type": "code",
   "execution_count": 11,
   "id": "6c70b4c6",
   "metadata": {},
   "outputs": [],
   "source": [
    "load_dotenv()\n",
    "\n",
    "api_key=os.environ.get(\"OPENAI_API_KEY\")\n",
    "\n",
    "if not api_key:\n",
    "    raise ValueError(\"Problem with API key\")"
   ]
  },
  {
   "cell_type": "code",
   "execution_count": 13,
   "id": "52ab0dff",
   "metadata": {},
   "outputs": [
    {
     "name": "stdout",
     "output_type": "stream",
     "text": [
      "Guardrail didn't triggered\n",
      "Response: There are eight planets in our solar system. They are, in order from the Sun: Mercury, Venus, Earth, Mars, Jupiter, Saturn, Uranus, and Neptune. Pluto was once considered the ninth planet but was reclassified as a \"dwarf planet\" by the International Astronomical Union in 2006.\n"
     ]
    }
   ],
   "source": [
    "\n",
    "class HomeworkCheat(BaseModel):\n",
    "    attempting_cheat : bool\n",
    "    explanation: str\n",
    "\n",
    "homework_cheat_guardrail_agent= Agent(\n",
    "    name=\"Homework Cheat detector\",\n",
    "    instructions=(\"Determine if a users query is a typical homework assignment or exam question, indicating an attempt to cheat. geeral question about concepts are acceptable\"\n",
    "                    \"Cheating : 'Fill in the blank: The Capital of France is _' \"\n",
    "                    \"Non cheating: 'What is the Capital of France', 'Explain Photosynthesis'\"\n",
    "    ),\n",
    "    output_type = HomeworkCheat\n",
    ")\n",
    "\n",
    "\n",
    "\n",
    "@input_guardrail\n",
    "async def cheat_detection_guardrail(\n",
    "        ctx : RunContextWrapper[None], agent : Agent, input : str | list[TResponseInputItem]\n",
    ") -> GuardrailFunctionOutput:\n",
    "    \n",
    "    result= await Runner.run(homework_cheat_guardrail_agent, input)\n",
    "\n",
    "    return GuardrailFunctionOutput(\n",
    "        tripwire_triggered=result.final_output.attempting_cheat,\n",
    "        output_info=result.final_output\n",
    "    )\n",
    "\n",
    "study_helper_agent= Agent(\n",
    "    name=\"Study Helper Agent\",\n",
    "    instructions= \"You help solve a question by explaining the concept or providing guidance, without directly solving the homework or test question\",\n",
    "    input_guardrails=[cheat_detection_guardrail]\n",
    "\n",
    ")\n",
    "\n",
    "try:\n",
    "    final_response= await Runner.run(study_helper_agent,\"how many planets are ther in solar system\")\n",
    "    print(\"Guardrail didn't triggered\")\n",
    "    print(\"Response:\", final_response.final_output)\n",
    "\n",
    "except InputGuardrailTripwireTriggered as e:\n",
    "    print(\"Homework cheat guardrail triggered\")\n",
    "    print(\"Exception details :\" , str(e))\n"
   ]
  }
 ],
 "metadata": {
  "kernelspec": {
   "display_name": "myvenv",
   "language": "python",
   "name": "python3"
  },
  "language_info": {
   "codemirror_mode": {
    "name": "ipython",
    "version": 3
   },
   "file_extension": ".py",
   "mimetype": "text/x-python",
   "name": "python",
   "nbconvert_exporter": "python",
   "pygments_lexer": "ipython3",
   "version": "3.13.3"
  }
 },
 "nbformat": 4,
 "nbformat_minor": 5
}
