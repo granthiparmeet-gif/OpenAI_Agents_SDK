{
 "cells": [
  {
   "cell_type": "code",
   "execution_count": 1,
   "id": "321a4384",
   "metadata": {},
   "outputs": [],
   "source": [
    "import os\n",
    "from dotenv import load_dotenv\n",
    "from agents import Agent, Runner"
   ]
  },
  {
   "cell_type": "code",
   "execution_count": 2,
   "id": "fc9001c9",
   "metadata": {},
   "outputs": [],
   "source": [
    "load_dotenv()\n",
    "\n",
    "api_key = os.environ.get(\"OPENAI_API_KEY\")\n",
    "\n",
    "if not api_key:\n",
    "    raise ValueError(\"Problems with API key\")"
   ]
  },
  {
   "cell_type": "code",
   "execution_count": 11,
   "id": "3348daf5",
   "metadata": {},
   "outputs": [
    {
     "name": "stdout",
     "output_type": "stream",
     "text": [
      "Hi How are you?\n"
     ]
    }
   ],
   "source": [
    "echo_agent= Agent(\n",
    "    name=\"Echo Agent\",\n",
    "    instructions=\"Suppose you are an echo agent, just echo print whatever is entered at the input\"\n",
    ")\n",
    "\n",
    "result= await Runner.run(echo_agent, \"Hi How are you?\")\n",
    "\n",
    "print(result.final_output)"
   ]
  }
 ],
 "metadata": {
  "kernelspec": {
   "display_name": "myvenv",
   "language": "python",
   "name": "python3"
  },
  "language_info": {
   "codemirror_mode": {
    "name": "ipython",
    "version": 3
   },
   "file_extension": ".py",
   "mimetype": "text/x-python",
   "name": "python",
   "nbconvert_exporter": "python",
   "pygments_lexer": "ipython3",
   "version": "3.13.3"
  }
 },
 "nbformat": 4,
 "nbformat_minor": 5
}
