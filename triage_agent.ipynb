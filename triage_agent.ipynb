{
 "cells": [
  {
   "cell_type": "code",
   "execution_count": 12,
   "id": "ad4357a4",
   "metadata": {},
   "outputs": [],
   "source": [
    "import os\n",
    "from dotenv import load_dotenv\n",
    "from agents import Agent, Runner, handoff, RunContextWrapper"
   ]
  },
  {
   "cell_type": "code",
   "execution_count": 13,
   "id": "9ef256c2",
   "metadata": {},
   "outputs": [],
   "source": [
    "load_dotenv()\n",
    "\n",
    "api_key=os.environ.get(\"OPENAI_API_KEY\")\n",
    "\n",
    "if not api_key:\n",
    "    raise ValueError(\"Problem with API key\")"
   ]
  },
  {
   "cell_type": "code",
   "execution_count": 19,
   "id": "6eb340e1",
   "metadata": {},
   "outputs": [
    {
     "name": "stdout",
     "output_type": "stream",
     "text": [
      "Handing off to History agent\n"
     ]
    },
    {
     "data": {
      "text/plain": [
       "\"World War II began on September 1, 1939, and its origins can be traced back through several key developments in the interwar period and immediate precursors to the war. Here's a step-by-step explanation of how WWII started:\\n\\n1. **Treaty of Versailles (1919)**: After World War I, the Treaty of Versailles imposed heavy reparations and territorial losses on Germany. This created widespread resentment among the German population, fostering a desire for revenge and national revival.\\n\\n2. **Rise of Totalitarian Regimes**: The economic hardship of the Great Depression in the 1930s led to the rise of totalitarian regimes in several countries. Adolf Hitler's Nazi Party gained power in Germany, promoting an aggressive nationalist and militaristic agenda. In Italy, Mussolini's Fascist Party rose to power, while militarism similarly gained traction in Japan.\\n\\n3. **German Expansionism**: Hitler aimed to expand Germany’s territory to provide 'Lebensraum' (living space) for the German people. This led to the remilitarization of the Rhineland (1936), the annexation of Austria (Anschluss) in 1938, and the Sudetenland crisis, where Hitler demanded parts of Czechoslovakia. The Munich Agreement of 1938 allowed Hitler to annex the Sudetenland, emboldening him further.\\n\\n4. **Nazi-Soviet Pact (1939)**: In August 1939, Germany and the Soviet Union signed the Molotov-Ribbentrop Pact, a non-aggression treaty which secretly included a protocol to divide Eastern Europe between them. This assured that Germany would not face a two-front war at the onset of the conflict.\\n\\n5. **Invasion of Poland**: On September 1, 1939, Germany invaded Poland using a blitzkrieg strategy, characterized by rapid and coordinated attacks involving airpower and ground forces. This invasion prompted Britain and France to declare war on Germany on September 3, marking the official start of World War II.\\n\\nThese events, stemming from a combination of political, economic, and military factors, laid the groundwork for the outbreak of global conflict.\""
      ]
     },
     "execution_count": 19,
     "metadata": {},
     "output_type": "execute_result"
    }
   ],
   "source": [
    "math_agent=Agent(\n",
    "    name=\"Math Agent\",\n",
    "    handoff_description=\"You will get the handoff from Triage Agent if the question is on maths\",\n",
    "    instructions=\"You are an expert in Math, when asked a question about maths give the answer and explain the steps\",\n",
    "    model=\"gpt-4o-mini\"\n",
    ")\n",
    "\n",
    "history_agent=Agent(\n",
    "    name=\"History Agent\",\n",
    "    handoff_description=\"You will get the handoff from Triage Agent if the question is on history\",\n",
    "    instructions=\"You are an expert in History, when asked a question about History give the answer and explain the steps\",\n",
    "    model=\"gpt-4o-mini\"\n",
    ")\n",
    "\n",
    "def on_history_handoff(ctx: RunContextWrapper[None]):\n",
    "    print(\"Handing off to History agent\")\n",
    "\n",
    "def on_math_handoff(ctx: RunContextWrapper[None]):\n",
    "    print(\"Handing off to Math agent\")\n",
    "\n",
    "triage_agent=Agent(\n",
    "    name=\"Triage Agent\",\n",
    "    instructions=\"You are agent that gives answer based on math with the help of Math Agent and answer based on history with the help of History Agent\",\n",
    "    handoffs=[handoff(math_agent,on_handoff=on_math_handoff),\n",
    "              handoff(history_agent,on_handoff=on_history_handoff)]\n",
    ")\n",
    "\n",
    "question=\"How did the world war2 started?\"\n",
    "\n",
    "result=await Runner.run(triage_agent, question)\n",
    "\n",
    "result.final_output"
   ]
  }
 ],
 "metadata": {
  "kernelspec": {
   "display_name": "myvenv",
   "language": "python",
   "name": "python3"
  },
  "language_info": {
   "codemirror_mode": {
    "name": "ipython",
    "version": 3
   },
   "file_extension": ".py",
   "mimetype": "text/x-python",
   "name": "python",
   "nbconvert_exporter": "python",
   "pygments_lexer": "ipython3",
   "version": "3.13.3"
  }
 },
 "nbformat": 4,
 "nbformat_minor": 5
}
