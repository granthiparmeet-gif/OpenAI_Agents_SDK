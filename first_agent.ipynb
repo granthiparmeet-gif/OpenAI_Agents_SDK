{
 "cells": [
  {
   "cell_type": "code",
   "execution_count": 1,
   "id": "9159f0a5",
   "metadata": {},
   "outputs": [
    {
     "data": {
      "text/plain": [
       "True"
      ]
     },
     "execution_count": 1,
     "metadata": {},
     "output_type": "execute_result"
    }
   ],
   "source": [
    "import os\n",
    "from openai import OpenAI\n",
    "from dotenv import load_dotenv\n",
    "\n",
    "load_dotenv()"
   ]
  },
  {
   "cell_type": "code",
   "execution_count": 2,
   "id": "f2a31ff1",
   "metadata": {},
   "outputs": [],
   "source": [
    "api_key = os.environ.get(\"OPENAI_API_KEY\")\n",
    "\n",
    "if not api_key:\n",
    "    raise ValueError(\"Problem with API key\")"
   ]
  },
  {
   "cell_type": "code",
   "execution_count": 5,
   "id": "83bd4eee",
   "metadata": {},
   "outputs": [
    {
     "data": {
      "text/plain": [
       "\"HELLO! I'M DOING GREAT, THANK YOU! HOW ABOUT YOU?\""
      ]
     },
     "execution_count": 5,
     "metadata": {},
     "output_type": "execute_result"
    }
   ],
   "source": [
    "from agents import Agent, Runner\n",
    "\n",
    "agent = Agent(\n",
    "    name=\"Cap converter agent\",\n",
    "    instructions= \"You are a helpful assistant. respond in all Capital letters.\",\n",
    "    model=\"gpt-4o-mini\"\n",
    "\n",
    ")\n",
    "\n",
    "result = await Runner.run(agent, \"Hello How are you?\")\n",
    "\n",
    "result.final_output"
   ]
  },
  {
   "cell_type": "code",
   "execution_count": null,
   "id": "00be2844",
   "metadata": {},
   "outputs": [
    {
     "data": {
      "text/plain": [
       "'Why did the husband bring a ladder to his marriage?\\n\\nBecause he heard the wedding had its ups and downs!'"
      ]
     },
     "execution_count": 11,
     "metadata": {},
     "output_type": "execute_result"
    }
   ],
   "source": [
    "joke_agent = Agent(\n",
    "    name=\"Joke Agent\",\n",
    "    instructions=\"Tell a joke about a given Topic\",\n",
    "    model=\"gpt-4o-mini\"\n",
    ")\n",
    "\n",
    "topic= \"wife\"\n",
    "\n",
    "result = await Runner.run(joke_agent, topic)\n",
    "\n",
    "result.final_output"
   ]
  },
  {
   "cell_type": "code",
   "execution_count": 13,
   "id": "ebd31e9a",
   "metadata": {},
   "outputs": [
    {
     "name": "stdout",
     "output_type": "stream",
     "text": [
      "The original joke is Why do husbands lose track of their wives?\n",
      "\n",
      "Because they always follow the “happily ever after” GPS, which only has one destination: **the mall!**\n",
      "The original joke is पति अपनी पत्नियों का ध्यान क्यों खो देते हैं?\n",
      "\n",
      "क्योंकि वे हमेशा \"खुशी-खुशी हमेशा के लिए\" जीपीएस का अनुसरण करते हैं, जिसकी एक ही मंज़िल होती है: **मॉल!**\n"
     ]
    }
   ],
   "source": [
    "translation_agent=Agent(\n",
    "    name=\"Language Translator\",\n",
    "    instructions=\"You are given a joke you need to transalte it in Hindi\"\n",
    ")\n",
    "\n",
    "joke_result= await Runner.run(joke_agent, topic)\n",
    "translation_result = await Runner.run(translation_agent, joke_result.final_output)\n",
    "\n",
    "print(f\"The original joke is {joke_result.final_output}\")\n",
    "print(f\"The original joke is {translation_result.final_output}\")"
   ]
  },
  {
   "cell_type": "code",
   "execution_count": 15,
   "id": "034b12ec",
   "metadata": {},
   "outputs": [
    {
     "name": "stdout",
     "output_type": "stream",
     "text": [
      "title='Italian Sausage Spaghetti' ingredients=['300g Italian sausage', '250g spaghetti', '2 tablespoons olive oil', '1 onion, finely chopped', '2 cloves garlic, minced', '400g canned tomatoes', '1 teaspoon dried oregano', '1 teaspoon dried basil', 'Salt and pepper to taste', 'Freshly grated Parmesan cheese (optional)'] time=30 servings=4\n"
     ]
    }
   ],
   "source": [
    "from pydantic import BaseModel\n",
    "from typing import List\n",
    "\n",
    "class Recipie(BaseModel):\n",
    "    title:str\n",
    "    ingredients: List[str]\n",
    "    time: int\n",
    "    servings: int\n",
    "\n",
    "cooking_agent=Agent(\n",
    "    name=\"Cooking agent\",\n",
    "    instructions= \"Suppose you are a cooking expert. When given a dish please provide the title of the dish, ingredients required to make the dish, The time required in minutes and the servings\",\n",
    "    output_type=Recipie\n",
    ")\n",
    "\n",
    "title = \"Italian Sausage with Sphagetti\"\n",
    "cooking_agent_output= await Runner.run(cooking_agent,title)\n",
    "\n",
    "print(cooking_agent_output.final_output)\n"
   ]
  }
 ],
 "metadata": {
  "kernelspec": {
   "display_name": "myvenv",
   "language": "python",
   "name": "python3"
  },
  "language_info": {
   "codemirror_mode": {
    "name": "ipython",
    "version": 3
   },
   "file_extension": ".py",
   "mimetype": "text/x-python",
   "name": "python",
   "nbconvert_exporter": "python",
   "pygments_lexer": "ipython3",
   "version": "3.13.3"
  }
 },
 "nbformat": 4,
 "nbformat_minor": 5
}
